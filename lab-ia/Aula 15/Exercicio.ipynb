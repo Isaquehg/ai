{
 "cells": [
  {
   "cell_type": "markdown",
   "metadata": {},
   "source": [
    "### Exercício: Adaline e Perceptron\n",
    "\n",
    "\n",
    "Dado os seguintes dados de treinamento, onde o valor entre parênteses é a coordenada e o \"1\" ou \"-1\" é a resposta desejada:\n",
    "\n",
    "    (-0.67, 0.51), 1\n",
    "    (1.13, 1.34), 1\n",
    "    (-0.63, -0.02), 1\n",
    "    (0.10, -1.35), -1\n",
    "    (0.88, -1.09), -1\n",
    "    (0.94, 0.61), -1\n",
    "    (-1.06, -1.13), -1\n",
    "    (-0.85, -0.34), 1\n",
    "    (-0.38, -0.29), 1\n",
    "    (0.18, -0.72), -1\n",
    "    (0.24, -0.08), 1\n",
    "    (-0.80, -0.31), 1\n",
    "    (0.25, 0.36), 1\n",
    "    (-1.19, -0.61), 1\n",
    "    (0.78, 1.05), 1\n",
    "    (0.46, -0.19), -1\n",
    "    (-0.12, 0.56), 1\n",
    "    (1.52, 1.69), 1\n",
    "    (0.84, -0.68), -1\n",
    "    (-1.16, -0.73), 1\n",
    "\n",
    "Treine as redes Adaline e Perceptron para resolver esse problema. Depois teste com o seguinte conjunto de dados:\n",
    "\n",
    "    (-0.91, 1.26), 1\n",
    "    (-1.06, 1.20), 1\n",
    "    (0.16, 0.80), 1\n",
    "    (-1.07, 1.82), 1\n",
    "    (0.07, 0.12), 1\n",
    "    (1.33, -0.13), -1\n",
    "\n",
    "\n",
    "Dica: Use  $η=0.01$ nos dois, 1000 épocas no perceptron e um critério de parada de $10^-3$ (1e-3) no Adaline\n"
   ]
  },
  {
   "cell_type": "markdown",
   "metadata": {},
   "source": [
    "### PERCEPTRON & ADALINE \n",
    "- Classificam somente grupos linearmente separáveis!\n",
    "- São classificadores binários.\n",
    "- São aprendizados supervisionados\n",
    "\n",
    "- Perceptron verifica APÓS passar pela função de ativação, classificando em -1 ou 1\n",
    "- Adaline verifica erro entre saída - (entrada * pesos), se for menor, para"
   ]
  },
  {
   "cell_type": "markdown",
   "metadata": {},
   "source": [
    "#### Código Adaline (não precisa alterar)"
   ]
  },
  {
   "cell_type": "code",
   "execution_count": 8,
   "metadata": {},
   "outputs": [],
   "source": [
    "import numpy as np\n",
    "import matplotlib.pyplot as plt"
   ]
  },
  {
   "cell_type": "code",
   "execution_count": 9,
   "metadata": {},
   "outputs": [],
   "source": [
    "class Adaline:\n",
    "    \n",
    "    def __init__(self, lr, e):\n",
    "        '''Construtor, define taxa de aprendizado e a taxa de erro aceita para convergir'''\n",
    "        self.lr = lr\n",
    "        self.e = e\n",
    "    def activation(self, value):\n",
    "        ''' 1 se value > 0, -1 senão'''\n",
    "        return (1 if value >= 0 else -1)\n",
    "        \n",
    "    def predict(self, x):\n",
    "        ''' Multiplicação matricial entre as entradas e os pesos somado ao bias proporcional'''\n",
    "        return np.dot(x, self.weights.T) + self.bias * self.w_bias\n",
    "    \n",
    "    def evaluate(self, target, predicted):\n",
    "        ''' Calcula a diferença entre o valor real e o valor predito'''\n",
    "        return (target - predicted)\n",
    "    \n",
    "    def train(self, x, d):\n",
    "        ''' Definir aleatoriamente os pesos, o bias e o peso do bias\n",
    "            Enquanto a diferença entre m mse_anterior e o mse_atual for maior que 'e' continua o processo \n",
    "        '''\n",
    "        self.weights = np.random.random(x.shape[1])\n",
    "        self.bias = -1\n",
    "        self.w_bias = np.random.random()\n",
    "        \n",
    "        epoch = 0\n",
    "        self.total_mse = []\n",
    "        last_mse = np.inf\n",
    "        \n",
    "        \n",
    "        while True:\n",
    "            mse = 0\n",
    "            # Para cada amostra\n",
    "            for xi, target in zip(x, d):\n",
    "                \n",
    "                predicted = self.predict(xi)  \n",
    "                current_error = self.evaluate(target, predicted)\n",
    "                mse += (current_error ** 2)\n",
    "                self.weights += self.lr * current_error * xi\n",
    "                self.w_bias += self.lr * current_error * self.bias\n",
    "                \n",
    "            mse = (mse/len(x))\n",
    "            print(f\"EPOCH: {epoch}\\t- MSE: {mse}\\t- MSE_ant - MSE: {abs(last_mse - mse)}\")\n",
    "            if abs(last_mse - mse) <= self.e:\n",
    "                break\n",
    "            \n",
    "            self.total_mse.append(mse)\n",
    "            last_mse = mse\n",
    "            epoch +=1\n",
    "            \n",
    "    def test(self, x):\n",
    "        ''' Dado uma lista de X, submete-os à rede'''\n",
    "        results = []\n",
    "        for xi in x:\n",
    "            predict = self.predict(xi)\n",
    "            predict = self.activation(predict)\n",
    "            results.append(predict)\n",
    "            \n",
    "        return results"
   ]
  },
  {
   "cell_type": "markdown",
   "metadata": {},
   "source": [
    "#### Código Perceptron (não precisa alterar)"
   ]
  },
  {
   "cell_type": "code",
   "execution_count": 10,
   "metadata": {},
   "outputs": [],
   "source": [
    "class Perceptron:\n",
    "    \n",
    "    def __init__(self, lr, n_epochs):\n",
    "        '''Construtor, define taxa de aprendizado e número máximo de épocas'''\n",
    "        self.lr = lr\n",
    "        self.n_epochs = n_epochs\n",
    "        \n",
    "    def activation(self, value):\n",
    "        ''' 1 se value > 0, -1 se value < 0, 0 se value == 0 '''\n",
    "        return (1 if value > 0 else -1 if value < 0 else 0)\n",
    "        \n",
    "    def predict(self, x):\n",
    "        ''' Multiplicação matricial entre as entradas e os pesos somado ao bias proporcional'''\n",
    "        return np.dot(x, self.weights.T) + self.bias * self.w_bias\n",
    "    \n",
    "    def evaluate(self, target, predicted):\n",
    "        ''' Calcula a diferença entre o valor real e o valor predito'''\n",
    "        return (target - predicted)\n",
    "    \n",
    "    def train(self, x, d):\n",
    "        ''' Definir aleatoriamente os pesos, o bias e o peso do bias\n",
    "            Enquanto houver erro, ou o máximo de épocas não for atingido continua o processo\n",
    "            \n",
    "        '''\n",
    "        self.weights = np.random.random(x.shape[1])\n",
    "        self.bias = np.random.random()\n",
    "        self.w_bias = np.random.random()\n",
    "        \n",
    "        epoch = 0\n",
    "        is_error = True\n",
    "        self.total_error = []\n",
    "        \n",
    "        while is_error and epoch < self.n_epochs:\n",
    "            \n",
    "            is_error  = False\n",
    "            epoch_errors = 0\n",
    "            \n",
    "            # Para cada amostra\n",
    "            for xi, target in zip(x, d):\n",
    "                \n",
    "                predicted = self.predict(xi)\n",
    "                predicted = self.activation(predicted)\n",
    "                \n",
    "                current_error = self.evaluate(target, predicted)\n",
    "                epoch_errors += current_error\n",
    "                \n",
    "                # Se houve erro, atualizar os pesos\n",
    "                if predicted != target:\n",
    "                    \n",
    "                    self.weights += self.lr * current_error * xi\n",
    "                    self.w_bias += self.lr * current_error * self.bias\n",
    "                    is_error = True\n",
    "                    \n",
    "            self.total_error.append(epoch_errors/len(x))\n",
    "            epoch += 1\n",
    "            \n",
    "    def test(self, x):\n",
    "        ''' Dado uma lista de X, submete-os à rede'''\n",
    "        results = []\n",
    "        for xi in x:\n",
    "            predict = self.predict(xi)\n",
    "            predict = self.activation(predict)\n",
    "            results.append(predict)\n",
    "            \n",
    "        return results"
   ]
  },
  {
   "cell_type": "code",
   "execution_count": 11,
   "metadata": {},
   "outputs": [
    {
     "data": {
      "image/png": "[encoded data removed]",
      "text/plain": [
       "<Figure size 600x400 with 1 Axes>"
      ]
     },
     "metadata": {},
     "output_type": "display_data"
    }
   ],
   "source": [
    "# Dataset\n",
    "x = np.array([\n",
    "    [-0.67,  0.51],\n",
    "    [ 1.13,  1.34],\n",
    "    [-0.63, -0.02],\n",
    "    [ 0.10, -1.35],\n",
    "    [ 0.88, -1.09],\n",
    "    [ 0.94,  0.61],\n",
    "    [-1.06, -1.13],\n",
    "    [-0.85, -0.34],\n",
    "    [-0.38, -0.29],\n",
    "    [ 0.18, -0.72],\n",
    "    [ 0.24, -0.08],\n",
    "    [-0.80, -0.31],\n",
    "    [ 0.25,  0.36],\n",
    "    [-1.19, -0.61],\n",
    "    [ 0.78,  1.05],\n",
    "    [ 0.46, -0.19],\n",
    "    [-0.12,  0.56],\n",
    "    [ 1.52,  1.69],\n",
    "    [ 0.84, -0.68],\n",
    "    [-1.16, -0.73]\n",
    "])\n",
    "\n",
    "d = np.array([1, 1, 1, -1, -1, -1, -1, 1, 1, -1, 1, 1, 1, 1, 1, -1, 1, 1, -1, 1])\n",
    "\n",
    "plt.figure(figsize=(6,4))\n",
    "plt.title(\"Data points\")\n",
    "plt.scatter(x[:, 0], x[:, 1], c = d, cmap = 'bwr')\n",
    "plt.show()"
   ]
  },
  {
   "cell_type": "markdown",
   "metadata": {},
   "source": [
    "#### Treinamento"
   ]
  },
  {
   "cell_type": "code",
   "execution_count": 12,
   "metadata": {},
   "outputs": [
    {
     "name": "stdout",
     "output_type": "stream",
     "text": [
      "EPOCH: 0\t- MSE: 1.6247407370348828\t- MSE_ant - MSE: inf\n",
      "EPOCH: 1\t- MSE: 1.2562179839219827\t- MSE_ant - MSE: 0.36852275311290006\n",
      "EPOCH: 2\t- MSE: 1.0037729180369968\t- MSE_ant - MSE: 0.25244506588498594\n",
      "EPOCH: 3\t- MSE: 0.8288244658348537\t- MSE_ant - MSE: 0.17494845220214306\n",
      "EPOCH: 4\t- MSE: 0.7058770803794182\t- MSE_ant - MSE: 0.12294738545543549\n",
      "EPOCH: 5\t- MSE: 0.6180510937978008\t- MSE_ant - MSE: 0.08782598658161744\n",
      "EPOCH: 6\t- MSE: 0.554143300928404\t- MSE_ant - MSE: 0.06390779286939674\n",
      "EPOCH: 7\t- MSE: 0.5066935250858051\t- MSE_ant - MSE: 0.04744977584259891\n",
      "EPOCH: 8\t- MSE: 0.47071255115147287\t- MSE_ant - MSE: 0.03598097393433225\n",
      "EPOCH: 9\t- MSE: 0.44284489263923754\t- MSE_ant - MSE: 0.027867658512235327\n",
      "EPOCH: 10\t- MSE: 0.42081747924664265\t- MSE_ant - MSE: 0.022027413392594897\n",
      "EPOCH: 11\t- MSE: 0.40307637399416424\t- MSE_ant - MSE: 0.017741105252478406\n",
      "EPOCH: 12\t- MSE: 0.3885471680727114\t- MSE_ant - MSE: 0.014529205921452848\n",
      "EPOCH: 13\t- MSE: 0.3764767478597084\t- MSE_ant - MSE: 0.012070420213002975\n",
      "EPOCH: 14\t- MSE: 0.3663286203388798\t- MSE_ant - MSE: 0.01014812752082861\n",
      "EPOCH: 15\t- MSE: 0.35771350907975824\t- MSE_ant - MSE: 0.008615111259121566\n",
      "EPOCH: 16\t- MSE: 0.3503431946753557\t- MSE_ant - MSE: 0.007370314404402556\n",
      "EPOCH: 17\t- MSE: 0.34399968967914757\t- MSE_ant - MSE: 0.006343504996208116\n",
      "EPOCH: 18\t- MSE: 0.3385145439039775\t- MSE_ant - MSE: 0.005485145775170064\n",
      "EPOCH: 19\t- MSE: 0.3337548547619149\t- MSE_ant - MSE: 0.004759689142062595\n",
      "EPOCH: 20\t- MSE: 0.3296137268256071\t- MSE_ant - MSE: 0.004141127936307831\n",
      "EPOCH: 21\t- MSE: 0.3260036937961381\t- MSE_ant - MSE: 0.0036100330294689953\n",
      "EPOCH: 22\t- MSE: 0.32285212182286854\t- MSE_ant - MSE: 0.00315157197326954\n",
      "EPOCH: 23\t- MSE: 0.32009794584950313\t- MSE_ant - MSE: 0.0027541759733654136\n",
      "EPOCH: 24\t- MSE: 0.31768930965001974\t- MSE_ant - MSE: 0.002408636199483394\n",
      "EPOCH: 25\t- MSE: 0.31558182443724686\t- MSE_ant - MSE: 0.002107485212772875\n",
      "EPOCH: 26\t- MSE: 0.3137372559871753\t- MSE_ant - MSE: 0.001844568450071582\n",
      "EPOCH: 27\t- MSE: 0.31212251295573257\t- MSE_ant - MSE: 0.0016147430314427114\n",
      "EPOCH: 28\t- MSE: 0.3107088505341005\t- MSE_ant - MSE: 0.0014136624216320448\n",
      "EPOCH: 29\t- MSE: 0.30947123106418595\t- MSE_ant - MSE: 0.0012376194699145748\n",
      "EPOCH: 30\t- MSE: 0.3083878014962647\t- MSE_ant - MSE: 0.0010834295679212347\n",
      "EPOCH: 31\t- MSE: 0.30743945975728243\t- MSE_ant - MSE: 0.0009483417389822835\n",
      "EPOCH: 32\t- MSE: 0.3066094902760515\t- MSE_ant - MSE: 0.00082996948123093\n",
      "EPOCH: 33\t- MSE: 0.3058832544388359\t- MSE_ant - MSE: 0.0007262358372155941\n",
      "EPOCH: 34\t- MSE: 0.30524792551921465\t- MSE_ant - MSE: 0.0006353289196212586\n",
      "EPOCH: 35\t- MSE: 0.30469226022802604\t- MSE_ant - MSE: 0.0005556652911886117\n",
      "EPOCH: 36\t- MSE: 0.3042064008504031\t- MSE_ant - MSE: 0.0004858593776229103\n",
      "EPOCH: 37\t- MSE: 0.3037817032333059\t- MSE_ant - MSE: 0.0004246976170972361\n",
      "EPOCH: 38\t- MSE: 0.3034105868277873\t- MSE_ant - MSE: 0.00037111640551856784\n",
      "EPOCH: 39\t- MSE: 0.30308640368768675\t- MSE_ant - MSE: 0.0003241831401005757\n",
      "EPOCH: 40\t- MSE: 0.30280332385521325\t- MSE_ant - MSE: 0.00028307983247349844\n",
      "EPOCH: 41\t- MSE: 0.30255623497391626\t- MSE_ant - MSE: 0.00024708888129698625\n",
      "EPOCH: 42\t- MSE: 0.30234065429446455\t- MSE_ant - MSE: 0.0002155806794517101\n",
      "EPOCH: 43\t- MSE: 0.3021526515013321\t- MSE_ant - MSE: 0.00018800279313246904\n",
      "EPOCH: 44\t- MSE: 0.30198878100458815\t- MSE_ant - MSE: 0.00016387049674393417\n",
      "EPOCH: 45\t- MSE: 0.30184602252146525\t- MSE_ant - MSE: 0.00014275848312289563\n",
      "EPOCH: 46\t- MSE: 0.3017217289249373\t- MSE_ant - MSE: 0.0001242935965279357\n",
      "EPOCH: 47\t- MSE: 0.3016135804667963\t- MSE_ant - MSE: 0.00010814845814099971\n",
      "EPOCH: 48\t- MSE: 0.30151954459476266\t- MSE_ant - MSE: 9.403587203365982e-05\n"
     ]
    }
   ],
   "source": [
    "rede = Adaline(lr = 0.01, e = 1e-4)\n",
    "rede.train(x = x, d = d)\n",
    "\n",
    "p = Perceptron(lr = 0.01, n_epochs = 1000)\n",
    "p.train(x = x, d = d)"
   ]
  },
  {
   "cell_type": "markdown",
   "metadata": {},
   "source": [
    "#### Teste"
   ]
  },
  {
   "cell_type": "markdown",
   "metadata": {},
   "source": [
    "(-0.91, 1.26), 1\n",
    "    (-1.06, 1.20), 1\n",
    "    (0.16, 0.80), 1\n",
    "    (-1.07, 1.82), 1\n",
    "    (0.07, 0.12), 1\n",
    "    (1.33, -0.13), -1"
   ]
  },
  {
   "cell_type": "code",
   "execution_count": 13,
   "metadata": {},
   "outputs": [
    {
     "data": {
      "image/png": "[encoded data removed]",
      "text/plain": [
       "<Figure size 600x400 with 1 Axes>"
      ]
     },
     "metadata": {},
     "output_type": "display_data"
    }
   ],
   "source": [
    "x_teste = np.array([[-0.91, 1.26], [-1.06, 1.2], [0.16, 0.8], [-1.07, 1.82], [0.07, 0.12], [1.33, -0.13]])\n",
    "\n",
    "teste_resultado = rede.test(x_teste)\n",
    "\n",
    "plt.figure(figsize=(6,4))\n",
    "plt.title(\"Data points + Predicted\")\n",
    "plt.scatter(x[:, 0], x[:, 1], c = d, cmap = 'bwr')\n",
    "plt.scatter(x_teste[:, 0], x_teste[:, 1], c = teste_resultado, cmap = 'bwr', marker = \"*\", s=250)\n",
    "plt.show()"
   ]
  },
  {
   "cell_type": "code",
   "execution_count": 14,
   "metadata": {},
   "outputs": [
    {
     "data": {
      "image/png": "[encoded data removed]",
      "text/plain": [
       "<Figure size 600x400 with 1 Axes>"
      ]
     },
     "metadata": {},
     "output_type": "display_data"
    }
   ],
   "source": [
    "x_teste = np.array([[-0.91, 1.26], [-1.06, 1.2], [0.16, 0.8], [-1.07, 1.82], [0.07, 0.12], [1.33, -0.13]])\n",
    "\n",
    "teste_resultado = p.test(x_teste)\n",
    "\n",
    "plt.figure(figsize=(6,4))\n",
    "plt.title(\"Data points + Predicted\")\n",
    "plt.scatter(x[:, 0], x[:, 1], c = d, cmap = 'bwr')\n",
    "plt.scatter(x_teste[:, 0], x_teste[:, 1], c = teste_resultado, cmap = 'bwr', marker = \"*\", s=250)\n",
    "plt.show()"
   ]
  }
 ],
 "metadata": {
  "kernelspec": {
   "display_name": "base",
   "language": "python",
   "name": "python3"
  },
  "language_info": {
   "codemirror_mode": {
    "name": "ipython",
    "version": 3
   },
   "file_extension": ".py",
   "mimetype": "text/x-python",
   "name": "python",
   "nbconvert_exporter": "python",
   "pygments_lexer": "ipython3",
   "version": "3.1.-1"
  }
 },
 "nbformat": 4,
 "nbformat_minor": 2
}
