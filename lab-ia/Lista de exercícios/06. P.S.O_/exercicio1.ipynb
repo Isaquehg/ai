{
 "cells": [
  {
   "cell_type": "markdown",
   "metadata": {},
   "source": [
    "#### Exercício 1\n",
    "\n",
    "Dada a seguinte função:\n",
    "\n",
    "$ f(x, y) = (x + 2y - 7)^2 + (2x + y - 5)^2 $\n",
    "\n",
    "Esta função tem um mínimo global em:\n",
    "\n",
    " $ (1, 3) $\n",
    "\n",
    "Gráfico:\n",
    "\n",
    "![imagem](images/exerc1func.png)\n",
    "\n",
    "Use o Cornfield Vector para minimizar a função ou, pelo menos, chegar o mais próximo possível do mínimo global\n",
    "\n",
    "Domínio: {0 <= x <= 10}, {0 <= y <= 10}"
   ]
  },
  {
   "cell_type": "code",
   "execution_count": null,
   "metadata": {},
   "outputs": [],
   "source": []
  }
 ],
 "metadata": {
  "language_info": {
   "name": "python"
  }
 },
 "nbformat": 4,
 "nbformat_minor": 2
}
