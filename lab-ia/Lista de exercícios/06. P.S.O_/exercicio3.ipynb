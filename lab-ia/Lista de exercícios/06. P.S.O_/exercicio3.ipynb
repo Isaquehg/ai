{
 "cells": [
  {
   "cell_type": "markdown",
   "metadata": {},
   "source": [
    "#### Exercicio 3\n",
    "\n",
    "Usando o Cornfield Vector (Otimização por enxame de Partículas), implemente o exemplo da aula teórica\n",
    "\n",
    "![imagem](images/Exerc3.png)\n",
    "\n",
    "Domínio: [(-10, 10), (-10, 10), (-10, 10)]\n",
    "\n",
    "Dica: Se quiser visualizar a movimentação das partículas use o Plot Utils para plotar o GIF"
   ]
  },
  {
   "cell_type": "code",
   "execution_count": null,
   "metadata": {},
   "outputs": [],
   "source": []
  }
 ],
 "metadata": {
  "language_info": {
   "name": "python"
  }
 },
 "nbformat": 4,
 "nbformat_minor": 2
}
