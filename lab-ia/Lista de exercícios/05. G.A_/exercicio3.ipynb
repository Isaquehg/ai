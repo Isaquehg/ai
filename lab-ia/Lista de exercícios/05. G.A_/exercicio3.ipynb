{
 "cells": [
  {
   "cell_type": "markdown",
   "metadata": {},
   "source": [
    "#### Exercício 3\n",
    "\n",
    "Dada a seguinte função:\n",
    "\n",
    "$ f(x,y)=(1-x)^2 + 100(y-x^2)^2 $\n",
    "\n",
    "Com o gráfico contendo 3 mínimos locais (trata-se dos mínimos das parábolas pretas no gráfico), sendo um deles o mínimo global.\n",
    "\n",
    "obs: O mínimo global está em x = 1 e y = 1\n",
    "\n",
    "![imagem](Images/exerc3func.png)\n",
    "\n",
    "Usando Algoritmos Genéticos, tente achar o mínimo GLOBAL. \n",
    "\n",
    "Domínio: {-15 <= x <= 15}, {-15 <= y <= 15>}\n",
    "\n",
    "Dica: Caso caia nos mínimos locais, tente aumentar a probabilidade de mutação ou aumentar a população."
   ]
  },
  {
   "cell_type": "code",
   "execution_count": null,
   "metadata": {},
   "outputs": [],
   "source": []
  }
 ],
 "metadata": {
  "language_info": {
   "name": "python"
  }
 },
 "nbformat": 4,
 "nbformat_minor": 2
}
