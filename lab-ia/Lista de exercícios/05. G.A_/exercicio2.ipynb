{
 "cells": [
  {
   "cell_type": "markdown",
   "metadata": {},
   "source": [
    "#### Exercício 2\n",
    "\n",
    "Dado a Seguinte função:\n",
    "\n",
    "$ f(x)=-x^2+ 4x $\n",
    "\n",
    "Com o gráfico da seguinte forma:\n",
    "\n",
    "![imagem](Images/exerc2func.png)\n",
    "\n",
    "Maximize a função usando algoritmos genéticos. Tente chegar, ou pelo menos, se aproximar do Máximo global.\n",
    "\n",
    "Domínio: {0 <= x <= 5}\n",
    "\n",
    "Dica: Fizemos um exercício parecido nas aulas.\n",
    "\n"
   ]
  },
  {
   "cell_type": "code",
   "execution_count": null,
   "metadata": {},
   "outputs": [],
   "source": []
  }
 ],
 "metadata": {
  "language_info": {
   "name": "python"
  }
 },
 "nbformat": 4,
 "nbformat_minor": 2
}
