{
 "cells": [
  {
   "cell_type": "markdown",
   "metadata": {},
   "source": [
    "#### Exercício 2 \n",
    "\n",
    "Usando o Cornfield Vector (Otimização por enxame de Partículas) minimize a função \n",
    "\n",
    "$ f(x, y) = (1 - x)^2 +100(y - x^2)^2 $\n",
    "\n",
    "<img src = \"images/func2.png\" width = 400>\n",
    "\n",
    "O mínimo da Função está em $ f(x, y) = 0 $\n",
    "\n",
    "O Domínio (Variável Bounds) da função é [(-10, 10), (-10, 10), (-10, 10)]\n",
    "\n",
    "Dica: Se quiser visualizar a movimentação das partículas use o Plot Utils para plotar o GIF"
   ]
  },
  {
   "cell_type": "code",
   "execution_count": null,
   "metadata": {},
   "outputs": [],
   "source": []
  }
 ],
 "metadata": {
  "language_info": {
   "name": "python"
  }
 },
 "nbformat": 4,
 "nbformat_minor": 2
}
