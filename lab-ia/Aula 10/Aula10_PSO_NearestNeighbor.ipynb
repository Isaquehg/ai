{
 "cells": [
  {
   "cell_type": "markdown",
   "metadata": {},
   "source": [
    "# Particle Swarm Optimization (PSO)\n",
    "\n",
    "* Algoritmo evolucionário\n",
    "* Reproduzir comportamento de espécies\n",
    "\n",
    "<img src = \"images/birds.png\" width = 800>"
   ]
  },
  {
   "cell_type": "markdown",
   "metadata": {},
   "source": [
    "## Nearest Neighbor Velocity Matching\n",
    "* Simular geograficamente o comportamento das espécies\n",
    "* Copiar características do vizinho mais próximo\n",
    "\n",
    "<img src=\"images/NN.png\" width = 800>"
   ]
  },
  {
   "cell_type": "code",
   "execution_count": 7,
   "metadata": {},
   "outputs": [],
   "source": [
    "import numpy as np"
   ]
  },
  {
   "cell_type": "markdown",
   "metadata": {},
   "source": [
    "### Funções gerais"
   ]
  },
  {
   "cell_type": "markdown",
   "metadata": {},
   "source": [
    "<img src=\"images/euclidean.png\" width=300>"
   ]
  },
  {
   "cell_type": "code",
   "execution_count": 8,
   "metadata": {},
   "outputs": [],
   "source": [
    "class Utils:\n",
    "    \n",
    "    @staticmethod\n",
    "    def euclidean_distance(p1, p2):\n",
    "        '''\n",
    "        Calcula a distância euclidiana\n",
    "        '''\n",
    "        position_1 = np.array(p1.position)\n",
    "        position_2 = np.array(p2.position)\n",
    "        distance = np.sqrt(sum((position_1 - position_2)**2))\n",
    "            \n",
    "        return distance"
   ]
  },
  {
   "cell_type": "markdown",
   "metadata": {},
   "source": [
    "### Classe de partículas\n",
    "\n",
    "<img src = \"images/particle.png\" width = 400>"
   ]
  },
  {
   "cell_type": "code",
   "execution_count": 9,
   "metadata": {},
   "outputs": [],
   "source": [
    "class Particle:\n",
    "    def __init__(self, num_dimensions, bounds):\n",
    "        '''\n",
    "        Construtor\n",
    "        '''\n",
    "        self.num_dimensions = num_dimensions\n",
    "        self.position = []\n",
    "        self.velocity = []\n",
    "        self.new_velocity = self.velocity\n",
    "        self.closest = None\n",
    "        self.min_dist = np.inf\n",
    "        self.bounds = bounds\n",
    "\n",
    "        # Para cada dimensão definir valores aleatórios entre os limites\n",
    "        # Obs.: Mesmo que altere o número de dimensões, este for loop não precisa ser alterado, \n",
    "        # pois as tuplas são sempre um range de dois em dois elementos para determinado eixo... (-30,30), (42, 20), (10,2), etc.\n",
    "        for i in range(self.num_dimensions):\n",
    "            self.position.append(np.random.uniform(self.bounds[i][0], self.bounds[i][1]))\n",
    "            self.velocity.append(np.random.uniform(self.bounds[i][0], self.bounds[i][1]))\n",
    "            \n",
    "    def __repr__(self):\n",
    "        return f\"\\nPosition {self.position}\\nVelocity {self.velocity}\\n\"\n",
    "            \n",
    "    def find_closest(self, swarm):\n",
    "        '''\n",
    "        Para cada partícula no enxame calcular a partícula mais próxima\n",
    "        '''\n",
    "        for particle in swarm:\n",
    "            if particle == self:\n",
    "                continue\n",
    "            dist = Utils.euclidean_distance(self, particle)\n",
    "            if dist < self.min_dist:\n",
    "                self.min_dist = dist\n",
    "                self.closest = particle\n",
    "\n",
    "    def adjust_velocity(self):\n",
    "        '''\n",
    "        Ajustar a nova velocidade baseado na velocidade do vizinho\n",
    "        '''\n",
    "        self.new_velocity = self.closest.velocity\n",
    "        \n",
    "    def update_velocity(self):\n",
    "        '''\n",
    "        Atualizar a nova velocidade\n",
    "        '''\n",
    "        self.velocity = self.new_velocity\n",
    "\n",
    "    def apply_craziness(self):\n",
    "        '''\n",
    "        Aplicar a operação 'craziness' no indivíduo\n",
    "        '''\n",
    "        craziness_velocity = []\n",
    "        for i in range(self.num_dimensions):\n",
    "            craziness_velocity.append(np.random.uniform(self.bounds[i][0], self.bounds[i][1]))\n",
    "        self.velocity = craziness_velocity\n",
    "        \n",
    "    def update_position(self):\n",
    "        '''\n",
    "        Atualizando a posição\n",
    "        '''\n",
    "        self.position = list(np.array(self.position) + np.array(self.velocity))\n",
    "                "
   ]
  },
  {
   "cell_type": "markdown",
   "metadata": {},
   "source": [
    "### Classe do enxame"
   ]
  },
  {
   "cell_type": "code",
   "execution_count": 10,
   "metadata": {},
   "outputs": [],
   "source": [
    "class Swarm:\n",
    "\n",
    "    def __init__(self, particles):\n",
    "        '''\n",
    "        Construtor\n",
    "        '''\n",
    "        self.particles = particles\n",
    "\n",
    "    def swarm_closest(self):\n",
    "        '''\n",
    "        Percorre todas as partículas e chama as funções para encontrar a partícula mais próxima e ajustar a nova velocidade\n",
    "        '''\n",
    "        for p in self.particles:\n",
    "            p.find_closest(self.particles)\n",
    "            p.adjust_velocity()\n",
    "\n",
    "    def swarm_update_velocities(self):\n",
    "        '''\n",
    "        Percorre todas as partículas e chama a função para atualizar a velocidade\n",
    "        '''\n",
    "        for p in self.particles:\n",
    "            p.update_velocity()\n",
    "\n",
    "    def swarm_craziness(self, craziness_threshold):\n",
    "        '''\n",
    "        Percorre todas as partículas e chama a função para aplicar \"craziness\"\n",
    "        '''\n",
    "        for p in self.particles:\n",
    "           if np.random.uniform(0, 1) < craziness_threshold:\n",
    "               p.apply_craziness()\n",
    "\n",
    "    def swarm_update_positions(self):\n",
    "        '''\n",
    "        Percorre todas as partículas e chama a função para atualizar a posição\n",
    "        '''\n",
    "        for p in self.particles:\n",
    "            p.update_position()"
   ]
  },
  {
   "cell_type": "markdown",
   "metadata": {},
   "source": [
    "### Principal"
   ]
  },
  {
   "cell_type": "code",
   "execution_count": 11,
   "metadata": {},
   "outputs": [
    {
     "ename": "ImportError",
     "evalue": "cannot import name 'PlotUtils' from 'plot_utils' (/opt/anaconda3/lib/python3.11/site-packages/plot_utils/__init__.py)",
     "output_type": "error",
     "traceback": [
      "\u001b[0;31m---------------------------------------------------------------------------\u001b[0m",
      "\u001b[0;31mImportError\u001b[0m                               Traceback (most recent call last)",
      "Cell \u001b[0;32mIn[11], line 1\u001b[0m\n\u001b[0;32m----> 1\u001b[0m \u001b[38;5;28;01mfrom\u001b[39;00m \u001b[38;5;21;01mplot_utils\u001b[39;00m \u001b[38;5;28;01mimport\u001b[39;00m PlotUtils\n\u001b[1;32m      3\u001b[0m CRAZINESS_PROBABILITY \u001b[38;5;241m=\u001b[39m \u001b[38;5;241m0.02\u001b[39m\n\u001b[1;32m      4\u001b[0m NUM_ITERATIONS \u001b[38;5;241m=\u001b[39m \u001b[38;5;241m20\u001b[39m\n",
      "\u001b[0;31mImportError\u001b[0m: cannot import name 'PlotUtils' from 'plot_utils' (/opt/anaconda3/lib/python3.11/site-packages/plot_utils/__init__.py)"
     ]
    }
   ],
   "source": [
    "from plot_utils import PlotUtils\n",
    "\n",
    "CRAZINESS_PROBABILITY = 0.02\n",
    "NUM_ITERATIONS = 20\n",
    "NUM_PARTICLES = 100\n",
    "NUM_DIMENSIONS = 2\n",
    "BOUNDS = [(-30, 30), (-30, 30)]\n",
    "\n",
    "if __name__ == \"__main__\":\n",
    "    PlotUtils.start_plot()\n",
    "    print(\"Starting\")\n",
    "\n",
    "    particles = []\n",
    "    for i in range(NUM_PARTICLES):\n",
    "        particles.append(Particle(NUM_DIMENSIONS, BOUNDS))\n",
    "\n",
    "    swarm = Swarm(particles)\n",
    "\n",
    "    print(\"Starting iterations\")\n",
    "    i = 0\n",
    "    while i < NUM_ITERATIONS:\n",
    "        print(f\"Iteration {i}\")\n",
    "\n",
    "        swarm.swarm_closest()\n",
    "        swarm.swarm_update_velocities()\n",
    "        swarm.swarm_craziness(CRAZINESS_PROBABILITY)\n",
    "        swarm.swarm_update_positions()\n",
    "\n",
    "        for p in swarm.particles:\n",
    "            PlotUtils.plot_particle(p)\n",
    "        PlotUtils.plot_iteration(i)\n",
    "\n",
    "        i += 1\n",
    "\n",
    "    PlotUtils.save()"
   ]
  }
 ],
 "metadata": {
  "kernelspec": {
   "display_name": "Python 3",
   "language": "python",
   "name": "python3"
  },
  "language_info": {
   "codemirror_mode": {
    "name": "ipython",
    "version": 3
   },
   "file_extension": ".py",
   "mimetype": "text/x-python",
   "name": "python",
   "nbconvert_exporter": "python",
   "pygments_lexer": "ipython3",
   "version": "3.11.7"
  }
 },
 "nbformat": 4,
 "nbformat_minor": 4
}
